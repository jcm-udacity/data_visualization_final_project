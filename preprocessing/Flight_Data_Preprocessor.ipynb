{
 "cells": [
  {
   "cell_type": "code",
   "execution_count": 1,
   "metadata": {
    "collapsed": true
   },
   "outputs": [],
   "source": [
    "import pandas\n",
    "\n",
    "# import raw data\n",
    "df = pandas.read_csv('../data/2008_Flight_Data.csv')"
   ]
  },
  {
   "cell_type": "code",
   "execution_count": 2,
   "metadata": {
    "collapsed": false,
    "scrolled": true
   },
   "outputs": [
    {
     "name": "stderr",
     "output_type": "stream",
     "text": [
      "/usr/local/lib/python3.4/dist-packages/ipykernel/__main__.py:6: SettingWithCopyWarning: \n",
      "A value is trying to be set on a copy of a slice from a DataFrame\n",
      "\n",
      "See the caveats in the documentation: http://pandas.pydata.org/pandas-docs/stable/indexing.html#indexing-view-versus-copy\n"
     ]
    }
   ],
   "source": [
    "# select columns for use in analysis\n",
    "flight_data = df[['Month', 'DayOfWeek', 'CRSDepTime',\n",
    "                  'CarrierDelay', 'WeatherDelay', 'NASDelay', \n",
    "                  'SecurityDelay', 'LateAircraftDelay']]\n",
    "# remove all rows with NaNs\n",
    "flight_data.dropna(axis=0, how='any', inplace=True)"
   ]
  },
  {
   "cell_type": "code",
   "execution_count": 3,
   "metadata": {
    "collapsed": false,
    "scrolled": false
   },
   "outputs": [
    {
     "name": "stderr",
     "output_type": "stream",
     "text": [
      "/usr/local/lib/python3.4/dist-packages/ipykernel/__main__.py:2: SettingWithCopyWarning: \n",
      "A value is trying to be set on a copy of a slice from a DataFrame.\n",
      "Try using .loc[row_indexer,col_indexer] = value instead\n",
      "\n",
      "See the caveats in the documentation: http://pandas.pydata.org/pandas-docs/stable/indexing.html#indexing-view-versus-copy\n",
      "  from ipykernel import kernelapp as app\n",
      "/usr/local/lib/python3.4/dist-packages/ipykernel/__main__.py:15: SettingWithCopyWarning: \n",
      "A value is trying to be set on a copy of a slice from a DataFrame\n",
      "\n",
      "See the caveats in the documentation: http://pandas.pydata.org/pandas-docs/stable/indexing.html#indexing-view-versus-copy\n"
     ]
    }
   ],
   "source": [
    "# convert military time to time on discretized continuous 0-24 scale\n",
    "flight_data['Time'] = flight_data['CRSDepTime'] // 100\n",
    "\n",
    "months = ['January', 'February', 'March', 'April', 'May', 'June', \n",
    "          'July', 'August', 'September', 'October', 'November', \n",
    "          'December']\n",
    "days = ['Monday', 'Tuesday', 'Wednesday', 'Thursday', \n",
    "        'Friday', 'Saturday', 'Sunday']\n",
    "\n",
    "# convert numeric encodings of month and day to string encodings\n",
    "# flight_data['Month'].replace(range(1, 13), months, inplace=True)\n",
    "# flight_data['DayOfWeek'].replace(range(1, 8), days, inplace=True)\n",
    "\n",
    "# drop unused columns\n",
    "flight_data.drop(['CRSDepTime'], axis=1, inplace=True)"
   ]
  },
  {
   "cell_type": "code",
   "execution_count": 4,
   "metadata": {
    "collapsed": true
   },
   "outputs": [],
   "source": [
    "# separate each delay category into its own dataframe for faster analysis\n",
    "carrier_delays = flight_data[flight_data['CarrierDelay'] != 0.0] \\\n",
    "                 [['Month', 'DayOfWeek', 'Time', 'CarrierDelay']]\n",
    "weather_delays = flight_data[flight_data['WeatherDelay'] != 0.0] \\\n",
    "                 [['Month', 'DayOfWeek', 'Time', 'WeatherDelay']]\n",
    "nas_delays = flight_data[flight_data['NASDelay'] != 0.0] \\\n",
    "             [['Month', 'DayOfWeek', 'Time', 'NASDelay']]\n",
    "security_delays = flight_data[flight_data['SecurityDelay'] != 0.0] \\\n",
    "                  [['Month', 'DayOfWeek', 'Time', 'SecurityDelay']]\n",
    "late_aircraft_delays = flight_data[flight_data['LateAircraftDelay'] != 0.0] \\\n",
    "                       [['Month', 'DayOfWeek', 'Time', 'LateAircraftDelay']]"
   ]
  },
  {
   "cell_type": "code",
   "execution_count": 5,
   "metadata": {
    "collapsed": true
   },
   "outputs": [],
   "source": [
    "carrier_delays = carrier_delays.sample(5000)\n",
    "weather_delays = weather_delays.sample(5000)\n",
    "nas_delays = nas_delays.sample(5000)\n",
    "security_delays = security_delays.sample(5000)\n",
    "late_aircraft_delays = late_aircraft_delays.sample(5000)"
   ]
  },
  {
   "cell_type": "code",
   "execution_count": 6,
   "metadata": {
    "collapsed": true
   },
   "outputs": [],
   "source": [
    "# set relative path for data directory\n",
    "rel_data_path = '../data/'\n",
    "\n",
    "# save each delay category's dataframe into a separate csv\n",
    "carrier_delays.to_csv(rel_data_path + 'carrier_delays.csv')\n",
    "weather_delays.to_csv(rel_data_path + 'weather_delays.csv')\n",
    "nas_delays.to_csv(rel_data_path + 'nas_delays.csv')\n",
    "security_delays.to_csv(rel_data_path + 'security_delays.csv')\n",
    "late_aircraft_delays.to_csv(rel_data_path + 'late_aircraft_delays.csv')"
   ]
  }
 ],
 "metadata": {
  "kernelspec": {
   "display_name": "Python 3",
   "language": "python",
   "name": "python3"
  },
  "language_info": {
   "codemirror_mode": {
    "name": "ipython",
    "version": 3
   },
   "file_extension": ".py",
   "mimetype": "text/x-python",
   "name": "python",
   "nbconvert_exporter": "python",
   "pygments_lexer": "ipython3",
   "version": "3.4.3"
  }
 },
 "nbformat": 4,
 "nbformat_minor": 2
}
